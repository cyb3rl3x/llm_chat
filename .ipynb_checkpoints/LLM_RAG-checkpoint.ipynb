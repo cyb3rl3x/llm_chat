{
 "cells": [
  {
   "cell_type": "raw",
   "id": "046b77da",
   "metadata": {},
   "source": [
    "!pip install --q unstructured langchain\n",
    "!pip install --q unstructured[all-docs]"
   ]
  },
  {
   "cell_type": "code",
   "execution_count": 3,
   "id": "56a5eef3",
   "metadata": {},
   "outputs": [],
   "source": [
    "from langchain_community.document_loaders import UnstructuredPDFLoader\n",
    "from langchain_community.document_loaders import OnlinePDFLoader"
   ]
  },
  {
   "cell_type": "code",
   "execution_count": 4,
   "id": "83cd8201",
   "metadata": {},
   "outputs": [],
   "source": [
    "local_path = 'cartilha_lgpd_2021.pdf'\n",
    "\n",
    "if local_path:\n",
    "    loader = UnstructuredPDFLoader(file_path=local_path)\n",
    "    data = loader.load()\n",
    "else:\n",
    "    print('Upload um arquivo')"
   ]
  },
  {
   "cell_type": "code",
   "execution_count": 5,
   "id": "5e61d537",
   "metadata": {},
   "outputs": [
    {
     "data": {
      "text/plain": [
       "'Cartilha Lei Geral de Proteção de Dados Pessoais 2021 - LGPD\\n\\nUsername\\n\\nDEPARTAMENTO NACIONAL DE INFRAESTRUTURA DE TRANSPORTES - DNIT\\n\\nPresidente da República\\n\\nJair Messias Bolsonaro\\n\\nMinistro da Infraestrutura Tarcísio Gomes de Freitas\\n\\nDiretor Geral do DNIT Antônio Leite dos Santos Filho\\n\\nDiretor Executivo Substituto Euclides Bandeira de Souza Neto\\n\\nAprovação e Revisão da Cartilha Lei Geral de Proteção de Dados Pessoais – 2021\\n\\nCoordenador-Geral de Modernização e Gestão Estratégica\\n\\nFábio Pessoa da Silva Nunes\\n\\nCoordenadora de Modernização Érica Mayumi Yamada Tajima\\n\\nOrganização e Consolidação da\\n\\nCartilha da Lei Geral de Proteção de Dados Pessoais – LGPD – 2021\\n\\nLeonardo Villares de Almeida Affonso\\n\\nFernando Rosa\\n\\nCamila Costa Nunes\\n\\nFátima Regina Carneiro Cassanti\\n\\nMarcus Vinicius Soares Lopes\\n\\nMilenna Almeida Pessoa Gonçalves\\n\\nRoberta Valletta Luz\\n\\nDiagramação e Arte Final da Cartilha Lei Geral de Proteção de Dados Pessoais – 2021 Gabriela Guedes Queiroz\\n\\nSumário\\n\\n1. OBJETIVOS DA CARTILHA LEI GERAL DE PROTEÇÃO DE DADOS PESSOAIS .............................................4\\n\\n2. INTRODUÇÃO – O QUE É A LGPD................................................................................................................................................4\\n\\n3. FUNDAMENTOS DA PROTEÇÃO DE DADOS.......................................................................................................................4\\n\\n4. PRINCIPAIS CONCEITOS.....................................................................................................................................................................5\\n\\n4.1. Dado Pessoal......................................................................................................................................................................................5\\n\\n4.2. Dado Pessoal Sensível................................................................................................................................................................6\\n\\n4.3. Dado Anonimizado.......................................................................................................................................................................7\\n\\n4.4. Titular dos Dados Pessoais......................................................................................................................................................7\\n\\n4.5. Tratamento de Dados Pessoais............................................................................................................................................8\\n\\n4.6. Consentimento para Tratamento dos Dados..............................................................................................................9\\n\\n4.7. Principais Atores..............................................................................................................................................................................9\\n\\n5. TRATAMENTO DE DADOS NO DNIT – EXEMPLOS...........................................................................................................10\\n\\n6. DIREITOS DOS TITULARES DOS DADOS...................................................................................................................................11\\n\\n7. PRINCÍPIOS DA LGPD..........................................................................................................................................................................12\\n\\n8. CONCLUSÃO..............................................................................................................................................................................................13\\n\\n9. REFERÊNCIAS..........................................................................................................................................................................................13\\n\\n1. Objetivos da Cartilha Geral de Proteção de Dados Pessoais\\n\\n01\\n\\nIntroduzir o assunto de maneira simples e didática\\n\\n02\\n\\nEsclarecer quanto aos fundamentos da proteção de dados pessoais\\n\\n03\\n\\nInformar quanto aos principais conceitos relativos à LGPD\\n\\n04\\n\\n05\\n\\n06\\n\\nDemonstrar os principais atores envolvidos\\n\\nFornecer exemplos adequados à realidade do DNIT\\n\\nConscientizar sobre os direitos dos titulares de dados\\n\\n4\\n\\n2. O que é a LGPD?\\n\\nA Lei Geral de Proteção de Dados Pessoais – Lei nº 13.709, de 14 de agosto de 2018, é uma inovação que está em consonância com os regramentos internacionais mais atuais a respeito da proteção de dados. Ela foi criada para regular o tratamento de dados pessoais dos cidadãos, inclusive nos meios digitais, visando proteger seus direitos fundamentais de liberdade e de privacidade e o livre desenvolvimento da personalidade da pessoa natural (pessoa física). Sua aplicação se estende a qualquer pessoa, natural ou jurídica, de direito público ou privado, que realize o tratamento de dados pessoais, online e/ou offline.\\n\\nEsta cartilha apresenta um resumo dos pontos principais da Lei, de modo que a alta administração, servidores e colaboradores conheçam o tema, se engajem na adequação do DNIT à LGPD e, ao mesmo tempo, saibam quais são seus direitos e deveres.\\n\\n3. Fundamentos da Proteção de Dados A LGPD traz claramente quais são os fundamentos relacionados à proteção de dados pessoais, que servem para embasar toda e qualquer ação que envolva seu tratamento. São eles:\\n\\nInviolabilidade da intimidade, da honra da imagem.\\n\\nRespeito à privacidade.\\n\\nDireitos humanos, livre desenvolvimento da personalidade, dignidade e exercício da cidadania pelas pessoas naturais.\\n\\nAutodeterminação informativa.\\n\\nLivre iniciativa, livre concorrência e defesa do consumidor.\\n\\nDesenvolvimento econômico e tecnológico e inovação.\\n\\nLiberdade de expressão, de informação, de comunicação, e de opinião.\\n\\n5\\n\\nA LGPD aprimora o conceito de proteção de dados pessoais, que deve ser realizada de maneira eificiente e eficaz, traduzindo-se em uma forma de estreitar o vínculo com o cidadão, que acredita que suas informações estão seguras e sendo utilizadas de maneira apropriada, obedecendo ao príncipio constitucional da inviolabilidade à privacidade, previsto na Carta Magna, em seu art 5º, inciso X.\\n\\n4. Principais Conceitos\\n\\n4.1 Dado Pessoal\\n\\nAquele que permite a identificação, direta ou indireta, da pessoa à qual o dado se refere. A figura abaixo traz uma lista não exaustiva.\\n\\nCookie/Log (endereço IP + HORA DE ACESSO)\\n\\nEndereço residencial, comercial ou eletrônico\\n\\nE-mail corporativo\\n\\nNome, sobrenome; data de nascimento; CPF;RG;CNH; carteira de trabalho; passaporte; título de eleitor; matrícula; servidor/colaborador\\n\\nABC 1234\\n\\nPlaca de automóvel\\n\\nNúmero de telefone\\n\\n6\\n\\n4.2 Dado Pessoal Sensível\\n\\nRelacionado a características da personalidade do indivíduo e suas escolhas pessoais, quando vinculado a uma pessoa natural. A figura abaixo traz uma lista não exaustiva.\\n\\nConvicção religiosa\\n\\nReferente à saúde ou à vida sexual\\n\\nDado genético ou biométrico\\n\\nFiliação a sindicato ou à organização de caráter religioso ou filosófico\\n\\nOpinião política\\n\\nOrigem racial ou étnica\\n\\n4.3 Dado Anonimizado\\n\\nRelativo a usuário que não possa ser identificado, considerando a utilização de meios técnicos razoáveis e disponíveis na ocasião do seu tratamento. A anonimização de dados deve seguir preceitos da segurança da informação, os quais estão sob responsabilidade, no âmbito do DNIT, da Coordenação-Geral de Tecnologia da Informação.\\n\\n7\\n\\nDado anonimizado era, originariamente, relativo a uma pessoa, mas passou por etapas que garantiram a desvinculação dele a essa pessoa. Se um dado for anonimizado, então a LGPD não se aplicará a ele. Um dado só é considerado efetivamente anonimizado se não permitir que, via meios técnicos e outros, se reconstrua o caminho para “descobrir” quem era o titular do dado - se de alguma forma a identificação ocorrer, então ele não é, de fato, um dado anonimizado e sim, apenas, um dado pseudonimizado e estará, então, sujeito à LGPD.\\n\\nSegundo especialistas, dados anonimizados são essenciais para o crescimento da inteligência artificial, da internet das coisas, do aprendizado das máquinas, das cidades inteligentes, da análise de comportamentos, entre outros. Sempre que possível, uma organização, pública ou privada, deve realizar a anonimização de dados pessoais, pois isso aperfeiçoa a segurança da informação na organização e gera, assim, mais confiança em seus serviços e para seus públicos .\\n\\nFonte: SERPRO\\n\\n4.4 Titular dos Dados Pessoais\\n\\nPessoa natural identificada ou identificável, independente da sua nacionalidade ou do local da sua residência. No âmbito do DNIT, os titulares podem ser cidadãos que utilizem os serviços da Autarquia; ou o próprio público interno (servidores e colaboradores), cujos dados são tratados, por exemplo, pelas áreas de gestão de pessoas na Sede em Brasília e nas Unidades Descentralizadas.\\n\\n4.5 Tratamento de Dados Pessoais\\n\\nQualquer operação ou conjunto de operações realizada com dados pessoais ou conjunto de dados pessoais por meios automatizados ou não. Tais operações podem ser: coleta, produção, recepção, classificação, utilização, acesso, reprodução, transmissão, distribuição, processamento, arquivamento, armazenamento, eliminação, avaliação ou controle da informação, modificação, comunicação, transferência, difusão ou extração. As fases do ciclo de vida dos dados pessoais demonstram como ocorrem, em geral, o tratamento de dados no âmbito de uma organização.\\n\\n8\\n\\nFases do Ciclo de Vida: antes de iniciar o processo de identificação e implementação de quaisquer medidas de segurança, é necessário analisar os processos, projetos, serviços e ativos abrangidos pelo ciclo de vida de tratamento dos dados pessoais.\\n\\n01\\n\\nColeta: Obtenção, recepção ou produção de dados pessoais, independentemente do meio utilizado (documento físico, eletrônico, sistema de informação etc).\\n\\n02\\n\\nRetenção: Arquivamento ou armazenamento de dados pessoais independentemente do meio utiizado (documento físico, eletrônico, banco de dados, arquivo de aço, etc)\\n\\n03\\n\\nProcessamento: Qualquer operação que envolva classificação, utilização, reprodução, processamento, avaliação ou controle da informação, extração e modificação de dados pessoais.\\n\\n04\\n\\nCompartilhamento: Qualquer operação que envolva reprodução, transmissão, distribuição, comunicação, tranferência, difusão e compartilhamento de dados pessoais.\\n\\n05\\n\\nEliminação: Qualquer operação que vise apagar ou eliminar dados pessoais. Contempla o descarte dos ativos organizacionais nos casos necessários ao negócio da instituição.\\n\\n9\\n\\nRetenção\\n\\nColeta\\n\\nProcessamento\\n\\nEliminação\\n\\nCompartilhamento\\n\\n4.6 Consentimento para Tratamento dos Dados\\n\\nO usuário deve permitir o tratamento de seus dados pessoais e essa permissão tem que ser livre, informada e inequívoca, por meio da qual o titular concorda com tal tratamento para uma finalidade determinada.\\n\\nATENÇÃO! A LGPD permite o tratamento, sem o consentimento do titular e quando for indispensável, nas seguintes situações:\\n\\nCumprimento de obrigação legal; •\\t Compartilhamento de dados necessários à execução de políticas públicas previstas em leis ou regulamentos;\\n\\nEstudos por órgão de pesquisa, garantindo sempre que possível a anonimização; •\\t Exercício de direitos, em contrato ou processo; •\\t Preservação da vida e da integridade física de uma pessoa; •\\t Tutela de saúde, em procedimentos por profissionais das áreas da saúde ou sanitária; •\\t Prevenção a fraudes e segurança do titular.\\n\\nVale lembrar que os dados pessoais sensíveis podem ser tratados pelas organizações, desde que seja com finalidade definida e com o consentimento específico e destacado do indivíduo.\\n\\n10\\n\\n4.7 Principais Atores\\n\\nAlém do titular dos dados pessoais, a LGPD define os principais atores envolvidos no processo de tratamento dos dados, bem como na fiscalização do cumprimento da Lei. São eles:\\n\\nAGENTES DE TRATAMENTO\\n\\nControlador: é o DNIT, a quem competem as decisões referentes ao tratamento de dados pessoais. Pode exercer diretamente o tratamento dos dados ou designar um operador. Possui autonomia decisória quanto a fins e meios de tratamento.\\n\\nOperador: pessoa natural ou jurídica, de direito público ou privado, que realiza o tratamento de dados pessoais em nome do controlador (escopo eminentemente executório).\\n\\nENCARREGADO\\n\\nPessoa indicada pelo controlador ou pelo operador, que atua como canal de comunicação entre o controlador, os titulares dos dados e a Autoridade Nacional de Proteção de Dados. O DNIT designou seu Encarregado pelo Tratamento de Dados Pessoais por meio da Portaria nº 843, de 12/2/2021, publicada no Diário Oficial da União em 17/2/2021.\\n\\nAUTORIDADE NACIONAL DE PROTEÇÃO DE DADOS – ANPD\\n\\nÓrgão da administração pública responsável por zelar, implementar e fiscalizar o cumprimento da Lei em todo o território nacional.\\n\\n5. TRATAMENTO DE DADOS NO DNIT – EXEMPLOS\\n\\nA forma como os dados são coletados e tratados pelo DNIT ocorre de diversas maneiras. Um processo de mapeamento de dados pessoais ainda deverá ser desenhado para saber quais são os fluxos de entrada desses dados, os locais responsáveis por seu tratamento, a forma de armazenamento, se há compartilhamento e como e se ocorre sua eliminação.\\n\\nAssim, trazemos alguns exemplos de dispositivos e maneiras por meio dos quais são disponibilizados dados pessoais, tanto dos usuários dos serviços oferecidos pelo DNIT, quanto de seu público interno:\\n\\n11\\n\\nEXEMPLOS DE SERVIÇOS QUE PODEM ENVOLVER TRATAMENTO DE DADOS PESSOAIS DO USUÁRIO EXTERNO\\n\\n12\\n\\nEXEMPLOS QUE ENVOLVEM TRATAMENTO DE DADOS PESSOAIS DE SERVIDORES/COLABORADORES\\n\\nDNIT Cloud\\n\\nBiometria\\n\\nSistema de câmeras\\n\\nE-mail coorporativo\\n\\nSistema de atendimento Qualitor\\n\\nGestão de Pessoas\\n\\nControle de Acesso (garagens, portarias)\\n\\nSistema Eletrônico de Informações\\n\\n6. Direitos dos Titulares dos Dados\\n\\nA LGPD é clara quanto aos direitos do titular, que deve ter o acesso facilitado às informações sobre o tratamento de seus dados. Entre outras características previstas na LGPD para o atendimento do princípio do livre acesso, essas informações deverão ser disponibilizadas de forma clara, adequada e ostensiva, e deverão conter:\\n\\nI – A finalidade específica do tratamento dos dados;\\n\\nII – Por quanto tempo vai durar o tratamento dos dados pessoais;\\n\\nIII – Qual é a identificação do controlador dos dados pessoais;\\n\\nIV – Informações de contato do controlador;\\n\\nV – Informações acerca se os seus dados pessoais vão ser compartilhados com outra empresa e qual é a finalidade desse compartilhamento;\\n\\nVI – Responsabilidade das empresas que realizarão o tratamento dos dados.\\n\\n13\\n\\n7. Princípios da LGPD\\n\\nPor fim, é de extrema importância que o tratamento de dados pessoais observe a boa-fé e os 10 princípios elencados na Lei.\\n\\nI - Finalidade: realização do tratamento para propósitos legítimos, específicos, explícitos e informados ao titular, sem possibilidade de tratamento posterior de forma incompatível com essas finalidades;\\n\\nII - Adequação:compatibilidade do tratamento com as finalidades informadas ao titular, de acordo com o contexto do tratamento;\\n\\nIII - Necessidade: limitação do tratamento ao mínimo necessário para a realização de suas finalidades, com abrangência dos dados pertinentes, proporcionais e não excessivos em relação às finalidades do tratamento de dados;\\n\\nIV - Livre acesso: garantia, aos titulares, de consulta facilitada e gratuita sobre a forma e a duração do tratamento, bem como sobre a integralidade de seus dados pessoais;\\n\\nV - Qualidade dos dados: garantia, aos titulares, de exatidão, clareza, relevância e atualização dos dados, de acordo com a necessidade e para o cumprimento da finalidade de seu tratamento;\\n\\nVI - Transparência: garantia, aos titulares, de informações claras, precisas e facilmente acessíveis sobre a realização do tratamento e os respectivos agentes de tratamento, observados os segredos comercial e industrial;\\n\\nVII - Segurança: utilização de medidas técnicas e administrativas aptas a proteger os dados pessoais de acessos não autorizados e de situações acidentais ou ilícitas de destruição, perda, alteração, comunicação ou difusão;\\n\\nVIII - Prevenção: adoção de medidas para prevenir a ocorrência de danos em virtude do tratamento de dados pessoais;\\n\\nIX - Não discriminação: impossibilidade de realização do tratamento para fins discriminatórios ilícitos ou abusivos;\\n\\nX - Responsabilização e prestação de contas: demonstração, pelo agente, da adoção de medidas eficazes e capazes de comprovar a observância e o cumprimento das normas de proteção de dados pessoais e, inclusive, da eficácia dessas medidas.\\n\\n14\\n\\n8. Conclusão\\n\\n9. Referências\\n\\nBRASIL. Lei nº 13.709, de 14 de agosto de 2018. Lei Geral de Proteção de Dados Pessoais (LGPD). Disponível em: <http://www.planalto.gov.br/ccivil_03/_ato2015- 2018/2018/lei/l13709.htm>. Acesso em: 17 jun 2021.\\n\\nBRASIL. Segurança e Proteção de Dados. Guia de Boas Práticas - Lei Geral de Proteção de Dados Pessoais (LGPD). Disponível em: <https://www.gov.br/ governodigital/pt-br/seguranca-e-protecao-de-dados/guia-boas-praticas-lgpd>. Acesso em: 17 jun 2021.\\n\\nCONTROLADORIA GERAL DO ESTADO DE MINAS GERAIS. Grupo de Trabalho sobre a Lei Geral de Proteção de Dados no âmbito do Governo do Estado de Minas Gerais. Disponível em: < https://cge.mg.gov.br/phocadownload/manuais_cartilhas/ pdf/Cartilha%20LGPD4%202.pdf>. Acesso em: 17/jun 2021.\\n\\nCONTROLADORIA GERAL DO ESTADO DO PARANÁ. Cartilhas da Lei Geral de Proteção de Dados – LGPD, 2020. Cartilha da LGPD. Disponível em: < https:// www.cge.pr.gov.br/Pagina/Cartilhas-da-Lei-Geral-de-Protecao-de-Dados-LGPD#>. Acesso em: 17/jun 2021.\\n\\nENAP – ESCOLA NACIONAL DE ADMINISTAÇÃO PÚBLICA. Proteção de Dados Pessoais no Setor Público. Disponível em: <https://www.escolavirtual.gov.br/ curso/290>. Acesso em: 17/jun 2021.\\n\\nSERPRO - SERVIÇO FEDERAL DE PROCESSAMENTO DE DADOS. Serpro. Dados Anonimizados. Disponível em: <https://www.serpro.gov.br/lgpd/menu/protecao-de- dados/dados-anonimizados-lgpd>. Acesso em: 17 jun 2021.\\n\\n15'"
      ]
     },
     "execution_count": 5,
     "metadata": {},
     "output_type": "execute_result"
    }
   ],
   "source": [
    "data[0].page_content"
   ]
  },
  {
   "cell_type": "code",
   "execution_count": null,
   "id": "0477b990",
   "metadata": {},
   "outputs": [],
   "source": []
  },
  {
   "cell_type": "markdown",
   "id": "47855394",
   "metadata": {},
   "source": [
    "### Vector Embeddings"
   ]
  },
  {
   "cell_type": "raw",
   "id": "59153bee",
   "metadata": {},
   "source": [
    "!ollama pull nomic-embed-text"
   ]
  },
  {
   "cell_type": "raw",
   "id": "7b76fc80",
   "metadata": {},
   "source": [
    "!ollama pull cnmoro/mistral_7b_portuguese:q2_K"
   ]
  },
  {
   "cell_type": "code",
   "execution_count": 4,
   "id": "49a9a407",
   "metadata": {},
   "outputs": [
    {
     "name": "stdout",
     "output_type": "stream",
     "text": [
      "NAME                             \tID          \tSIZE  \tMODIFIED          \n",
      "cnmoro/mistral_7b_portuguese:q2_K\t321345d18e55\t2.7 GB\t52 minutes ago   \t\n",
      "nomic-embed-text:latest          \t0a109f422b47\t274 MB\tAbout an hour ago\t\n"
     ]
    }
   ],
   "source": [
    "!ollama list"
   ]
  },
  {
   "cell_type": "code",
   "execution_count": 5,
   "id": "babe733e",
   "metadata": {},
   "outputs": [],
   "source": [
    "#!pip install --q chromadb\n",
    "#!pip install --q langchain-text-splitters"
   ]
  },
  {
   "cell_type": "code",
   "execution_count": 1,
   "id": "ee591d46",
   "metadata": {},
   "outputs": [],
   "source": [
    "from langchain_community.embeddings import OllamaEmbeddings\n",
    "from langchain_text_splitters import RecursiveCharacterTextSplitter\n",
    "from langchain_community.vectorstores import Chroma"
   ]
  },
  {
   "cell_type": "code",
   "execution_count": 2,
   "id": "a0efc7c0",
   "metadata": {},
   "outputs": [
    {
     "ename": "NameError",
     "evalue": "name 'data' is not defined",
     "output_type": "error",
     "traceback": [
      "\u001b[1;31m---------------------------------------------------------------------------\u001b[0m",
      "\u001b[1;31mNameError\u001b[0m                                 Traceback (most recent call last)",
      "Cell \u001b[1;32mIn[2], line 4\u001b[0m\n\u001b[0;32m      1\u001b[0m text_splitter \u001b[38;5;241m=\u001b[39m RecursiveCharacterTextSplitter(chunk_size\u001b[38;5;241m=\u001b[39m\u001b[38;5;241m7500\u001b[39m, \n\u001b[0;32m      2\u001b[0m                                                chunk_overlap\u001b[38;5;241m=\u001b[39m\u001b[38;5;241m100\u001b[39m)\n\u001b[1;32m----> 4\u001b[0m chunks \u001b[38;5;241m=\u001b[39m text_splitter\u001b[38;5;241m.\u001b[39msplit_documents(\u001b[43mdata\u001b[49m)\n",
      "\u001b[1;31mNameError\u001b[0m: name 'data' is not defined"
     ]
    }
   ],
   "source": [
    "text_splitter = RecursiveCharacterTextSplitter(chunk_size=7500, \n",
    "                                               chunk_overlap=100)\n",
    "\n",
    "chunks = text_splitter.split_documents(data)"
   ]
  },
  {
   "cell_type": "code",
   "execution_count": 9,
   "id": "cba55068",
   "metadata": {},
   "outputs": [
    {
     "name": "stderr",
     "output_type": "stream",
     "text": [
      "\n",
      "OllamaEmbeddings:   0%|                                                                          | 0/3 [00:00<?, ?it/s]\u001b[A\n",
      "OllamaEmbeddings:  33%|██████████████████████                                            | 1/3 [00:10<00:21, 10.63s/it]\u001b[A\n",
      "OllamaEmbeddings:  67%|████████████████████████████████████████████                      | 2/3 [00:14<00:06,  6.83s/it]\u001b[A\n",
      "OllamaEmbeddings: 100%|██████████████████████████████████████████████████████████████████| 3/3 [00:18<00:00,  6.22s/it]\u001b[A\n"
     ]
    }
   ],
   "source": [
    "model_name = 'cnmoro/mistral_7b_portuguese:q2_K'\n",
    "\n",
    "vector_db = Chroma.from_documents(\n",
    "    documents = chunks, \n",
    "    embedding = OllamaEmbeddings(model=model_name, show_progress=True),\n",
    "    collection_name='local-rag'\n",
    ")"
   ]
  },
  {
   "cell_type": "markdown",
   "id": "456a13ba",
   "metadata": {},
   "source": [
    "### Retrieval"
   ]
  },
  {
   "cell_type": "code",
   "execution_count": 10,
   "id": "5e323390",
   "metadata": {},
   "outputs": [],
   "source": [
    "from langchain_community.chat_models import ChatOllama\n",
    "from langchain_core.runnables import RunnablePassthrough\n",
    "from langchain_core.output_parsers import StrOutputParser\n",
    "from langchain.prompts import ChatPromptTemplate, PromptTemplate\n",
    "from langchain.retrievers.multi_query import MultiQueryRetriever"
   ]
  },
  {
   "cell_type": "code",
   "execution_count": 17,
   "id": "759df16c",
   "metadata": {},
   "outputs": [],
   "source": [
    "local_model = model_name\n",
    "llm = ChatOllama(model=local_model)"
   ]
  },
  {
   "cell_type": "code",
   "execution_count": 18,
   "id": "73b766b1",
   "metadata": {},
   "outputs": [],
   "source": [
    "QUERY_PROMPT = PromptTemplate(\n",
    "    input_variables=['question'],\n",
    "    template = \"\"\"\n",
    "    Você é um modelo de linguagem de IA. \n",
    "    Sua tarefa é gerar cinco diferentes versões \n",
    "    de uma questão dada pelo usuário para recuperar documentos relevantes de um vector database.\n",
    "    Ao gerar múltiplas perspectivas da questão do usuário, seu objetivo é ajudar o usuário a \n",
    "    suerar algumas limitações da busca baseada em similaridade. Forneça essas perguntas alternativas sparadas por linhas.\n",
    "    Pergunta originaç: {question}\n",
    "    \"\"\"\n",
    ")"
   ]
  },
  {
   "cell_type": "code",
   "execution_count": 19,
   "id": "9edd768a",
   "metadata": {},
   "outputs": [],
   "source": [
    "retriever = MultiQueryRetriever.from_llm(\n",
    "    vector_db.as_retriever(),\n",
    "    llm, \n",
    "    prompt=QUERY_PROMPT\n",
    ")\n",
    "\n",
    "template = \"\"\"Responda a questão baseado somente no seguinte contexto:{context}\"\"\""
   ]
  },
  {
   "cell_type": "code",
   "execution_count": 20,
   "id": "cf56820c",
   "metadata": {},
   "outputs": [],
   "source": [
    "prompt = ChatPromptTemplate.from_template(template)"
   ]
  },
  {
   "cell_type": "code",
   "execution_count": 21,
   "id": "4a0d3540",
   "metadata": {},
   "outputs": [],
   "source": [
    "chain = (\n",
    "    {\"context\":retriever, \"question\":RunnablePassthrough()}\n",
    "    |prompt\n",
    "    |llm\n",
    "    |StrOutputParser()\n",
    ")"
   ]
  },
  {
   "cell_type": "code",
   "execution_count": 22,
   "id": "9b2f22c6",
   "metadata": {},
   "outputs": [
    {
     "name": "stdout",
     "output_type": "stream",
     "text": [
      "O que é isso?\n"
     ]
    },
    {
     "name": "stderr",
     "output_type": "stream",
     "text": [
      "OllamaEmbeddings: 100%|██████████████████████████████████████████████████████████████████| 1/1 [00:02<00:00,  2.57s/it]\n",
      "Number of requested results 4 is greater than number of elements in index 3, updating n_results = 3\n",
      "OllamaEmbeddings: 100%|██████████████████████████████████████████████████████████████████| 1/1 [00:02<00:00,  2.43s/it]\n",
      "Number of requested results 4 is greater than number of elements in index 3, updating n_results = 3\n",
      "OllamaEmbeddings: 100%|██████████████████████████████████████████████████████████████████| 1/1 [00:02<00:00,  2.39s/it]\n",
      "Number of requested results 4 is greater than number of elements in index 3, updating n_results = 3\n",
      "OllamaEmbeddings: 100%|██████████████████████████████████████████████████████████████████| 1/1 [00:02<00:00,  2.40s/it]\n",
      "Number of requested results 4 is greater than number of elements in index 3, updating n_results = 3\n",
      "OllamaEmbeddings: 100%|██████████████████████████████████████████████████████████████████| 1/1 [00:02<00:00,  2.70s/it]\n",
      "Number of requested results 4 is greater than number of elements in index 3, updating n_results = 3\n"
     ]
    },
    {
     "data": {
      "text/plain": [
       "' Com base nas informações fornecidas, parece que a Lei Geral de Portabilidade de Dados Pessoais (LGPD) é uma lei que visa proteger as informações pessoais dos cidadãos, incluindo suas interações on-line e off-line. Alguns dos princípios subjacentes da LGPD incluem o respeito à privacidade, a inviolabilidade da intimidade e a honra da imagem e os direitos humanos fundamentais, como o livre desenvolvimento pessoal e a dignidade. A lei se aplica a qualquer pessoa ou entidade que realizam o tratamento de dados pessoais, online e/ou offline. Além disso, a LGPD requer que todos os cidadãos tenham direito de conhecer e corrigir as informações pessoais que estão a sua disposição, bem como o direito à anonimização dos dados pessoais.'"
      ]
     },
     "execution_count": 22,
     "metadata": {},
     "output_type": "execute_result"
    }
   ],
   "source": [
    "chain.invoke(input(\"\"))"
   ]
  },
  {
   "cell_type": "code",
   "execution_count": 23,
   "id": "9540a71a",
   "metadata": {},
   "outputs": [
    {
     "name": "stdout",
     "output_type": "stream",
     "text": [
      "Quais os fundamentos da LGPD?\n"
     ]
    },
    {
     "name": "stderr",
     "output_type": "stream",
     "text": [
      "OllamaEmbeddings: 100%|██████████████████████████████████████████████████████████████████| 1/1 [00:02<00:00,  2.44s/it]\n",
      "Number of requested results 4 is greater than number of elements in index 3, updating n_results = 3\n",
      "OllamaEmbeddings: 100%|██████████████████████████████████████████████████████████████████| 1/1 [00:02<00:00,  2.58s/it]\n",
      "Number of requested results 4 is greater than number of elements in index 3, updating n_results = 3\n",
      "OllamaEmbeddings: 100%|██████████████████████████████████████████████████████████████████| 1/1 [00:02<00:00,  2.46s/it]\n",
      "Number of requested results 4 is greater than number of elements in index 3, updating n_results = 3\n",
      "OllamaEmbeddings: 100%|██████████████████████████████████████████████████████████████████| 1/1 [00:02<00:00,  2.68s/it]\n",
      "Number of requested results 4 is greater than number of elements in index 3, updating n_results = 3\n",
      "OllamaEmbeddings: 100%|██████████████████████████████████████████████████████████████████| 1/1 [00:02<00:00,  2.67s/it]\n",
      "Number of requested results 4 is greater than number of elements in index 3, updating n_results = 3\n"
     ]
    },
    {
     "data": {
      "text/plain": [
       "' Como um modelo de linguagem AI, não tenho a capacidade de fornecer uma análise abrangente dos pontos principais da Lei de Proteção de Dados Pessoal (LGPD), mas posso resumir as principais características e princípios do texto que você forneceu. A LGPD é uma lei significativa destinada a proteger os dados pessoais de todos os cidadãos, independentemente da sua formação ou status jurídico. Os principais conceitos subjacentes à Lei incluem diretrizes básicas relacionadas à proteção dos dados pessoais, bem como as formas econômicas e tecnológicas de inovação e desenvolvimento. Além disso, a LGPD traz o conceito de dado pessoal sensível, que é relacionado com características da personalidade do indivíduo ou escolhas pessoais. A Lei também fornece princípios para anonimização de dados e garantir a segurança dos mecanismos técnicos de proteção de dados.'"
      ]
     },
     "execution_count": 23,
     "metadata": {},
     "output_type": "execute_result"
    }
   ],
   "source": [
    "chain.invoke(input(\"\"))"
   ]
  },
  {
   "cell_type": "code",
   "execution_count": 24,
   "id": "c6833ac3",
   "metadata": {},
   "outputs": [
    {
     "name": "stdout",
     "output_type": "stream",
     "text": [
      "Quais os fundamentos da proteção de dados?\n"
     ]
    },
    {
     "name": "stderr",
     "output_type": "stream",
     "text": [
      "OllamaEmbeddings: 100%|██████████████████████████████████████████████████████████████████| 1/1 [00:02<00:00,  2.62s/it]\n",
      "Number of requested results 4 is greater than number of elements in index 3, updating n_results = 3\n",
      "OllamaEmbeddings: 100%|██████████████████████████████████████████████████████████████████| 1/1 [00:02<00:00,  2.34s/it]\n",
      "Number of requested results 4 is greater than number of elements in index 3, updating n_results = 3\n",
      "OllamaEmbeddings: 100%|██████████████████████████████████████████████████████████████████| 1/1 [00:02<00:00,  2.32s/it]\n",
      "Number of requested results 4 is greater than number of elements in index 3, updating n_results = 3\n",
      "OllamaEmbeddings: 100%|██████████████████████████████████████████████████████████████████| 1/1 [00:02<00:00,  2.37s/it]\n",
      "Number of requested results 4 is greater than number of elements in index 3, updating n_results = 3\n",
      "OllamaEmbeddings: 100%|██████████████████████████████████████████████████████████████████| 1/1 [00:02<00:00,  2.35s/it]\n",
      "Number of requested results 4 is greater than number of elements in index 3, updating n_results = 3\n"
     ]
    },
    {
     "data": {
      "text/plain": [
       "' As informações apresentadas são precisas e relevantes para o tema. No entanto, há algumas coisas que podem ser melhoradas. Por exemplo, a lista de dados pessoais sensíveis não é exaustiva, pois pode haver outros dados sensíveis que não são mencionados. Além disso, as possíveis consequências do não respeito da Lei de Proteção dos Dados (LGPD) não são discutidas, e nenhuma ação legal é apresentada para aqueles que não cumpram o LGPD. Finalmente, pode haver alguns erros na formatação e no estilo do documento que precisa de revisão. No geral, a Lei de Proteção dos Dados (LGPD) é uma lei importante para proteger os dados pessoais e a privacidade pessoal.'"
      ]
     },
     "execution_count": 24,
     "metadata": {},
     "output_type": "execute_result"
    }
   ],
   "source": [
    "chain.invoke(input(\"\"))"
   ]
  },
  {
   "cell_type": "code",
   "execution_count": 25,
   "id": "5eb82bbc",
   "metadata": {},
   "outputs": [
    {
     "name": "stdout",
     "output_type": "stream",
     "text": [
      "Cite os 10 princípios da LGPD?\n"
     ]
    },
    {
     "name": "stderr",
     "output_type": "stream",
     "text": [
      "OllamaEmbeddings: 100%|██████████████████████████████████████████████████████████████████| 1/1 [00:02<00:00,  2.37s/it]\n",
      "Number of requested results 4 is greater than number of elements in index 3, updating n_results = 3\n",
      "OllamaEmbeddings: 100%|██████████████████████████████████████████████████████████████████| 1/1 [00:02<00:00,  2.55s/it]\n",
      "Number of requested results 4 is greater than number of elements in index 3, updating n_results = 3\n",
      "OllamaEmbeddings: 100%|██████████████████████████████████████████████████████████████████| 1/1 [00:02<00:00,  2.60s/it]\n",
      "Number of requested results 4 is greater than number of elements in index 3, updating n_results = 3\n",
      "OllamaEmbeddings: 100%|██████████████████████████████████████████████████████████████████| 1/1 [00:02<00:00,  2.64s/it]\n",
      "Number of requested results 4 is greater than number of elements in index 3, updating n_results = 3\n",
      "OllamaEmbeddings: 100%|██████████████████████████████████████████████████████████████████| 1/1 [00:02<00:00,  2.70s/it]\n",
      "Number of requested results 4 is greater than number of elements in index 3, updating n_results = 3\n",
      "OllamaEmbeddings: 100%|██████████████████████████████████████████████████████████████████| 1/1 [00:02<00:00,  2.63s/it]\n",
      "Number of requested results 4 is greater than number of elements in index 3, updating n_results = 3\n",
      "OllamaEmbeddings: 100%|██████████████████████████████████████████████████████████████████| 1/1 [00:02<00:00,  2.63s/it]\n",
      "Number of requested results 4 is greater than number of elements in index 3, updating n_results = 3\n",
      "OllamaEmbeddings: 100%|██████████████████████████████████████████████████████████████████| 1/1 [00:02<00:00,  2.61s/it]\n",
      "Number of requested results 4 is greater than number of elements in index 3, updating n_results = 3\n",
      "OllamaEmbeddings: 100%|██████████████████████████████████████████████████████████████████| 1/1 [00:02<00:00,  2.56s/it]\n",
      "Number of requested results 4 is greater than number of elements in index 3, updating n_results = 3\n",
      "OllamaEmbeddings: 100%|██████████████████████████████████████████████████████████████████| 1/1 [00:02<00:00,  2.61s/it]\n",
      "Number of requested results 4 is greater than number of elements in index 3, updating n_results = 3\n",
      "OllamaEmbeddings: 100%|██████████████████████████████████████████████████████████████████| 1/1 [00:02<00:00,  2.60s/it]\n",
      "Number of requested results 4 is greater than number of elements in index 3, updating n_results = 3\n"
     ]
    },
    {
     "data": {
      "text/plain": [
       "' A Lei de Proteção dos Dados da Pessoa (LGPD) é uma lei que regula a coleta, uso e divulgação de informações pessoais no Brasil. Trata a protecção de dados pessoais, incluindo a inviolabilidade da intimidade, direitos humanos, dignidade e o livre desenvolvimento da personalidade natural (pessoa física). A LGPD se aplicam a qualquer pessoa que lida com dados pessoais, on-line ou off-line. Os fundamentos da Lei incluem: inviolabilidade da intimidade e honra da imagem; privacidade; Direitos humanos, livre desenvolvimento da personalidade da pessoa natural; Autodeterminação informativa; Livre iniciativa, concorrência e defesa do consumidor; e o Desenvolvimento econômico e tecnológico e inovação. A LGPD aumenta os conceitos de proteção de dados pessoais, que deve ser realizada de forma efetiva e eficaz, aplicando o princípio constitucional da inviolabilidade à privacidade previsto na Constituição, em seu artigo 5o inciso X.'"
      ]
     },
     "execution_count": 25,
     "metadata": {},
     "output_type": "execute_result"
    }
   ],
   "source": [
    "chain.invoke(input(\"\"))"
   ]
  },
  {
   "cell_type": "code",
   "execution_count": 26,
   "id": "11e2491a",
   "metadata": {},
   "outputs": [
    {
     "name": "stdout",
     "output_type": "stream",
     "text": [
      "Organize a resposta em tópicos. Descreva a LGPD em três tópicos.\n"
     ]
    },
    {
     "name": "stderr",
     "output_type": "stream",
     "text": [
      "OllamaEmbeddings: 100%|██████████████████████████████████████████████████████████████████| 1/1 [00:02<00:00,  2.61s/it]\n",
      "Number of requested results 4 is greater than number of elements in index 3, updating n_results = 3\n",
      "OllamaEmbeddings: 100%|██████████████████████████████████████████████████████████████████| 1/1 [00:02<00:00,  2.59s/it]\n",
      "Number of requested results 4 is greater than number of elements in index 3, updating n_results = 3\n",
      "OllamaEmbeddings: 100%|██████████████████████████████████████████████████████████████████| 1/1 [00:02<00:00,  2.46s/it]\n",
      "Number of requested results 4 is greater than number of elements in index 3, updating n_results = 3\n",
      "OllamaEmbeddings: 100%|██████████████████████████████████████████████████████████████████| 1/1 [00:02<00:00,  2.64s/it]\n",
      "Number of requested results 4 is greater than number of elements in index 3, updating n_results = 3\n",
      "OllamaEmbeddings: 100%|██████████████████████████████████████████████████████████████████| 1/1 [00:02<00:00,  2.65s/it]\n",
      "Number of requested results 4 is greater than number of elements in index 3, updating n_results = 3\n"
     ]
    },
    {
     "data": {
      "text/plain": [
       "' Este resumo é útil para entender os princípios e conceitos básicos da Lei de Proteção de Dados do Brasil (LGPD). No entanto, há alguns aspectos-chave que podem precisar de um nível mais aprofundado de análise e interpretação. Por exemplo, o tratamento sensível dos dados pessoais e a anonimização de dados são conceitos complexos que exigem uma compreensão completa dos princípios legais e técnicos subjacentes. Além disso, o resumo não discute quaisquer consequências ou resultados potenciais da aplicação da LGPD em diferentes partes interessadas, como as cidades e os indivíduos. Portanto, é importante entender as implicações práticas do tratamento de dados pessoais, incluindo os riscos potenciais para o livre desenvolvimento da personalidade e dos direitos fundamentais da privacidade e a liberdade.'"
      ]
     },
     "execution_count": 26,
     "metadata": {},
     "output_type": "execute_result"
    }
   ],
   "source": [
    "chain.invoke(input(\"\"))"
   ]
  },
  {
   "cell_type": "code",
   "execution_count": 27,
   "id": "02c1e451",
   "metadata": {},
   "outputs": [
    {
     "name": "stdout",
     "output_type": "stream",
     "text": [
      "A LGPD combate o terrorismo?\n"
     ]
    },
    {
     "name": "stderr",
     "output_type": "stream",
     "text": [
      "OllamaEmbeddings: 100%|██████████████████████████████████████████████████████████████████| 1/1 [00:02<00:00,  2.66s/it]\n",
      "Number of requested results 4 is greater than number of elements in index 3, updating n_results = 3\n",
      "OllamaEmbeddings: 100%|██████████████████████████████████████████████████████████████████| 1/1 [00:02<00:00,  2.67s/it]\n",
      "Number of requested results 4 is greater than number of elements in index 3, updating n_results = 3\n",
      "OllamaEmbeddings: 100%|██████████████████████████████████████████████████████████████████| 1/1 [00:02<00:00,  2.60s/it]\n",
      "Number of requested results 4 is greater than number of elements in index 3, updating n_results = 3\n",
      "OllamaEmbeddings: 100%|██████████████████████████████████████████████████████████████████| 1/1 [00:02<00:00,  2.42s/it]\n",
      "Number of requested results 4 is greater than number of elements in index 3, updating n_results = 3\n",
      "OllamaEmbeddings: 100%|██████████████████████████████████████████████████████████████████| 1/1 [00:02<00:00,  2.60s/it]\n",
      "Number of requested results 4 is greater than number of elements in index 3, updating n_results = 3\n"
     ]
    },
    {
     "data": {
      "text/plain": [
       "' A Lei de Proteção de Dados de 2021 (LGPD) é uma lei brasileira que regula como as pessoas naturais, online ou offline, seus dados pessoais são tratados e protegidos. Ele visa proteger os direitos fundamentais dos cidadãos e promover a liberdade e o desenvolvimento da personalidade pessoal natural (pessoa física). Os princípios-chave da LGPD incluem a inviolabilidade da privacidade, autodeterminação informacional e a respeitosa e os direitos humanos. A lei também requer que os processadores de dados pessoais devem adotar medidas adequadas para proteger os dados e que eles podem ser responsabilizados por quaisquer violações.'"
      ]
     },
     "execution_count": 27,
     "metadata": {},
     "output_type": "execute_result"
    }
   ],
   "source": [
    "chain.invoke(input(\"\"))"
   ]
  },
  {
   "cell_type": "code",
   "execution_count": 28,
   "id": "eeda12a3",
   "metadata": {},
   "outputs": [
    {
     "name": "stdout",
     "output_type": "stream",
     "text": [
      "Quais as referências do documento?\n"
     ]
    },
    {
     "name": "stderr",
     "output_type": "stream",
     "text": [
      "OllamaEmbeddings: 100%|██████████████████████████████████████████████████████████████████| 1/1 [00:02<00:00,  2.46s/it]\n",
      "Number of requested results 4 is greater than number of elements in index 3, updating n_results = 3\n",
      "OllamaEmbeddings: 100%|██████████████████████████████████████████████████████████████████| 1/1 [00:02<00:00,  2.42s/it]\n",
      "Number of requested results 4 is greater than number of elements in index 3, updating n_results = 3\n",
      "OllamaEmbeddings: 100%|██████████████████████████████████████████████████████████████████| 1/1 [00:02<00:00,  2.54s/it]\n",
      "Number of requested results 4 is greater than number of elements in index 3, updating n_results = 3\n",
      "OllamaEmbeddings: 100%|██████████████████████████████████████████████████████████████████| 1/1 [00:02<00:00,  2.43s/it]\n",
      "Number of requested results 4 is greater than number of elements in index 3, updating n_results = 3\n",
      "OllamaEmbeddings: 100%|██████████████████████████████████████████████████████████████████| 1/1 [00:02<00:00,  2.68s/it]\n",
      "Number of requested results 4 is greater than number of elements in index 3, updating n_results = 3\n"
     ]
    },
    {
     "data": {
      "text/plain": [
       "' Como um modelo de linguagem AI, não posso fornecer uma opinião pessoal, pois sou apenas um programa de IA projetado para ajudar as pessoas na sua pesquisa. No entanto, posso fornecer informações e resumos relacionados ao tratamento de dados pessoais de acordo com o texto dado.\\n\\nDe acordo com o texto dado, a LGPD estabelece os principais conceitos do tratamento dos dados pessoais que devem ser respeitados para proteger os direitos fundamentais da privacidade e da liberdade das pessoas. Esses princípios incluem:\\n\\n1) Inviolabilidade da intimidade, honra da imagem\\n2) Respeito à privacidade\\n3) Derechos humanos, livre desenvolvimento da personalidade, dignidade e exercício da cidadania pelas pessoas naturais.\\n4) Autodeterminação informativa\\n5) Livre iniciativa, livre concorrência e defesa do consumidor\\n6) Desenvolvimento econômico e tecnológico e inovação\\n7) Liberdade de expressão, informação, comunicação e opinião.\\n\\nO tratamento dos dados pessoais sensívels é relacionado com características da personalidade do indivíduo ou escolhas pessoais e são ligadas a uma pessoa natural. Exemplos de tais informações incluem:\\n\\n1) Referência religiosa\\n2) Referente à saúde ou à vida sexual\\n3) Genórico ou biométrico dado\\n4) Filiação à sindicato ou organização de caráter religioso ou filosófico\\n5) Opinião política\\n6) Origem racial ou étnica.\\n\\nOs dados não anonimizados são relacionados a um usuário que pode ser identificado, considerando o uso de meios técnicos razoáveis e disponíveis na ocasião do seu tratamento.'"
      ]
     },
     "execution_count": 28,
     "metadata": {},
     "output_type": "execute_result"
    }
   ],
   "source": [
    "chain.invoke(input(\"\"))"
   ]
  },
  {
   "cell_type": "code",
   "execution_count": 29,
   "id": "e71bf151",
   "metadata": {},
   "outputs": [
    {
     "name": "stdout",
     "output_type": "stream",
     "text": [
      "O que é isso?\n"
     ]
    },
    {
     "name": "stderr",
     "output_type": "stream",
     "text": [
      "OllamaEmbeddings: 100%|██████████████████████████████████████████████████████████████████| 1/1 [00:02<00:00,  2.49s/it]\n",
      "Number of requested results 4 is greater than number of elements in index 3, updating n_results = 3\n",
      "OllamaEmbeddings: 100%|██████████████████████████████████████████████████████████████████| 1/1 [00:02<00:00,  2.41s/it]\n",
      "Number of requested results 4 is greater than number of elements in index 3, updating n_results = 3\n",
      "OllamaEmbeddings: 100%|██████████████████████████████████████████████████████████████████| 1/1 [00:02<00:00,  2.60s/it]\n",
      "Number of requested results 4 is greater than number of elements in index 3, updating n_results = 3\n",
      "OllamaEmbeddings: 100%|██████████████████████████████████████████████████████████████████| 1/1 [00:02<00:00,  2.61s/it]\n",
      "Number of requested results 4 is greater than number of elements in index 3, updating n_results = 3\n",
      "OllamaEmbeddings: 100%|██████████████████████████████████████████████████████████████████| 1/1 [00:02<00:00,  2.43s/it]\n",
      "Number of requested results 4 is greater than number of elements in index 3, updating n_results = 3\n"
     ]
    },
    {
     "data": {
      "text/plain": [
       "' Quais são os fundamentos principais relacionados à proteção dos dados pessoais, e como a Lei de Proteção de Dados (LGPD) garante o respeito por esses princípios?'"
      ]
     },
     "execution_count": 29,
     "metadata": {},
     "output_type": "execute_result"
    }
   ],
   "source": [
    "chain.invoke(input(\"\"))"
   ]
  },
  {
   "cell_type": "code",
   "execution_count": 30,
   "id": "9e77dc5b",
   "metadata": {},
   "outputs": [
    {
     "name": "stdout",
     "output_type": "stream",
     "text": [
      "O que é isso?\n"
     ]
    },
    {
     "name": "stderr",
     "output_type": "stream",
     "text": [
      "OllamaEmbeddings: 100%|██████████████████████████████████████████████████████████████████| 1/1 [00:02<00:00,  2.50s/it]\n",
      "Number of requested results 4 is greater than number of elements in index 3, updating n_results = 3\n",
      "OllamaEmbeddings: 100%|██████████████████████████████████████████████████████████████████| 1/1 [00:02<00:00,  2.61s/it]\n",
      "Number of requested results 4 is greater than number of elements in index 3, updating n_results = 3\n",
      "OllamaEmbeddings: 100%|██████████████████████████████████████████████████████████████████| 1/1 [00:02<00:00,  2.54s/it]\n",
      "Number of requested results 4 is greater than number of elements in index 3, updating n_results = 3\n",
      "OllamaEmbeddings: 100%|██████████████████████████████████████████████████████████████████| 1/1 [00:02<00:00,  2.58s/it]\n",
      "Number of requested results 4 is greater than number of elements in index 3, updating n_results = 3\n",
      "OllamaEmbeddings: 100%|██████████████████████████████████████████████████████████████████| 1/1 [00:02<00:00,  2.54s/it]\n",
      "Number of requested results 4 is greater than number of elements in index 3, updating n_results = 3\n"
     ]
    },
    {
     "data": {
      "text/plain": [
       "' A Lei Geral dos Direitos na Internet (LGPD) é uma lei brasileira que regula a coleta, o processamento e o tratamento de dados pessoais online ou offline. Ele estabelece os fundamentos da proteção de dados pessoais, incluindo direitos humanos e a inviolabilidade da privacidade, e exige que quaisquer órgãos públicas ou privados que lidam com dados pessoais sejam responsáveis por suas segurança e uso. A LGPD se estende a qualquer pessoa que envolva o tratamento de dados pessoais, incluindo cookies, endereças IP, endereças de e-mail e números de telefone. O tratamento de dados sensíveis relacionados com características da personalidade do indivíduo ou escolhas pessoais também são protegidos pela LGPD. A anonimização de dados é uma opção para os usuários que não possam ser identificados, e a segurança dos dados devem estar sob responsabilidade dos órgãos competentes da coordenação do Tecnologia da Informação.'"
      ]
     },
     "execution_count": 30,
     "metadata": {},
     "output_type": "execute_result"
    }
   ],
   "source": [
    "chain.invoke(input(\"\"))"
   ]
  },
  {
   "cell_type": "code",
   "execution_count": null,
   "id": "99942cc9",
   "metadata": {},
   "outputs": [],
   "source": []
  }
 ],
 "metadata": {
  "kernelspec": {
   "display_name": "Python 3 (ipykernel)",
   "language": "python",
   "name": "python3"
  },
  "language_info": {
   "codemirror_mode": {
    "name": "ipython",
    "version": 3
   },
   "file_extension": ".py",
   "mimetype": "text/x-python",
   "name": "python",
   "nbconvert_exporter": "python",
   "pygments_lexer": "ipython3",
   "version": "3.10.11"
  }
 },
 "nbformat": 4,
 "nbformat_minor": 5
}
