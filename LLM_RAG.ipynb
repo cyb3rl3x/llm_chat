{
 "cells": [
  {
   "cell_type": "raw",
   "id": "046b77da",
   "metadata": {},
   "source": [
    "!pip install --q unstructured langchain\n",
    "!pip install --q unstructured[all-docs]"
   ]
  },
  {
   "cell_type": "code",
   "execution_count": 1,
   "id": "56a5eef3",
   "metadata": {},
   "outputs": [],
   "source": [
    "from langchain_community.document_loaders import UnstructuredPDFLoader\n",
    "from langchain_community.document_loaders import OnlinePDFLoader"
   ]
  },
  {
   "cell_type": "code",
   "execution_count": 7,
   "id": "d0e370a7",
   "metadata": {},
   "outputs": [
    {
     "name": "stdout",
     "output_type": "stream",
     "text": [
      "Loading data...\n",
      "['Cartilha LGPD.pdf', 'cartilha_lgpd_2021.pdf', 'ufs_cartilha_lgpd_.pdf']\n",
      "[<langchain_community.document_loaders.pdf.UnstructuredPDFLoader object at 0x0000022BAB138C40>, <langchain_community.document_loaders.pdf.UnstructuredPDFLoader object at 0x0000022BAB1385B0>, <langchain_community.document_loaders.pdf.UnstructuredPDFLoader object at 0x0000022BAB138970>]\n",
      "Loading raw document...biblioteca/Cartilha LGPD.pdf\n",
      "Splitting text...\n",
      "Loading raw document...biblioteca/cartilha_lgpd_2021.pdf\n",
      "Splitting text...\n",
      "Loading raw document...biblioteca/ufs_cartilha_lgpd_.pdf\n",
      "Splitting text...\n"
     ]
    }
   ],
   "source": [
    "import os\n",
    "\n",
    "print(\"Loading data...\")\n",
    "pdf_folder_path = \"biblioteca/\"\n",
    "print(os.listdir(pdf_folder_path))\n",
    "\n",
    "# Load multiple files\n",
    "loaders = [UnstructuredPDFLoader(os.path.join(pdf_folder_path, fn)) for fn in os.listdir(pdf_folder_path)]\n",
    "\n",
    "print(loaders)\n",
    "\n",
    "all_documents = []\n",
    "\n",
    "for loader in loaders:\n",
    "    print(\"Loading raw document...\" + loader.file_path)\n",
    "    raw_documents = loader.load()\n",
    "\n",
    "    print(\"Splitting text...\")\n",
    "    text_splitter = RecursiveCharacterTextSplitter(\n",
    "        #separator=\"\\n\\n\",\n",
    "        chunk_size=800,\n",
    "        chunk_overlap=100,\n",
    "        length_function=len,\n",
    "    )\n",
    "    documents = text_splitter.split_documents(raw_documents)\n",
    "    all_documents.extend(documents)"
   ]
  },
  {
   "cell_type": "code",
   "execution_count": 4,
   "id": "83cd8201",
   "metadata": {},
   "outputs": [],
   "source": [
    "local_path = 'biblioteca/cartilha_lgpd_2021.pdf'\n",
    "\n",
    "if local_path:\n",
    "    loader = UnstructuredPDFLoader(file_path=local_path)\n",
    "    data = loader.load()\n",
    "else:\n",
    "    print('Upload um arquivo')"
   ]
  },
  {
   "cell_type": "code",
   "execution_count": 5,
   "id": "5e61d537",
   "metadata": {},
   "outputs": [
    {
     "data": {
      "text/plain": [
       "list"
      ]
     },
     "execution_count": 5,
     "metadata": {},
     "output_type": "execute_result"
    }
   ],
   "source": [
    "type(data)#[0].page_content"
   ]
  },
  {
   "cell_type": "code",
   "execution_count": null,
   "id": "4f395252",
   "metadata": {},
   "outputs": [],
   "source": []
  },
  {
   "cell_type": "markdown",
   "id": "47855394",
   "metadata": {},
   "source": [
    "### Vector Embeddings"
   ]
  },
  {
   "cell_type": "raw",
   "id": "59153bee",
   "metadata": {},
   "source": [
    "!ollama pull nomic-embed-text"
   ]
  },
  {
   "cell_type": "raw",
   "id": "7b76fc80",
   "metadata": {},
   "source": [
    "!ollama pull cnmoro/mistral_7b_portuguese:q2_K"
   ]
  },
  {
   "cell_type": "code",
   "execution_count": 4,
   "id": "49a9a407",
   "metadata": {},
   "outputs": [
    {
     "name": "stdout",
     "output_type": "stream",
     "text": [
      "NAME                             \tID          \tSIZE  \tMODIFIED          \n",
      "cnmoro/mistral_7b_portuguese:q2_K\t321345d18e55\t2.7 GB\t52 minutes ago   \t\n",
      "nomic-embed-text:latest          \t0a109f422b47\t274 MB\tAbout an hour ago\t\n"
     ]
    }
   ],
   "source": [
    "!ollama list"
   ]
  },
  {
   "cell_type": "code",
   "execution_count": 5,
   "id": "babe733e",
   "metadata": {},
   "outputs": [],
   "source": [
    "#!pip install --q chromadb\n",
    "#!pip install --q langchain-text-splitters"
   ]
  },
  {
   "cell_type": "code",
   "execution_count": 4,
   "id": "ee591d46",
   "metadata": {},
   "outputs": [],
   "source": [
    "from langchain_community.embeddings import OllamaEmbeddings\n",
    "from langchain_text_splitters import RecursiveCharacterTextSplitter\n",
    "from langchain_community.vectorstores import Chroma"
   ]
  },
  {
   "cell_type": "code",
   "execution_count": 2,
   "id": "a0efc7c0",
   "metadata": {},
   "outputs": [
    {
     "ename": "NameError",
     "evalue": "name 'data' is not defined",
     "output_type": "error",
     "traceback": [
      "\u001b[1;31m---------------------------------------------------------------------------\u001b[0m",
      "\u001b[1;31mNameError\u001b[0m                                 Traceback (most recent call last)",
      "Cell \u001b[1;32mIn[2], line 4\u001b[0m\n\u001b[0;32m      1\u001b[0m text_splitter \u001b[38;5;241m=\u001b[39m RecursiveCharacterTextSplitter(chunk_size\u001b[38;5;241m=\u001b[39m\u001b[38;5;241m7500\u001b[39m, \n\u001b[0;32m      2\u001b[0m                                                chunk_overlap\u001b[38;5;241m=\u001b[39m\u001b[38;5;241m100\u001b[39m)\n\u001b[1;32m----> 4\u001b[0m chunks \u001b[38;5;241m=\u001b[39m text_splitter\u001b[38;5;241m.\u001b[39msplit_documents(\u001b[43mdata\u001b[49m)\n",
      "\u001b[1;31mNameError\u001b[0m: name 'data' is not defined"
     ]
    }
   ],
   "source": [
    "text_splitter = RecursiveCharacterTextSplitter(chunk_size=7500, \n",
    "                                               chunk_overlap=100)\n",
    "\n",
    "chunks = text_splitter.split_documents(data)"
   ]
  },
  {
   "cell_type": "code",
   "execution_count": 8,
   "id": "cba55068",
   "metadata": {},
   "outputs": [
    {
     "name": "stderr",
     "output_type": "stream",
     "text": [
      "OllamaEmbeddings: 100%|██████████████████████████████████████████████████████████████████| 96/96 [04:52<00:00,  3.05s/it]\n"
     ]
    }
   ],
   "source": [
    "model_name = 'cnmoro/mistral_7b_portuguese:q2_K'\n",
    "\n",
    "vector_db = Chroma.from_documents(\n",
    "    documents = all_documents, #chunks, \n",
    "    embedding = OllamaEmbeddings(model=model_name, show_progress=True),\n",
    "    collection_name='local-rag'\n",
    ")"
   ]
  },
  {
   "cell_type": "markdown",
   "id": "456a13ba",
   "metadata": {},
   "source": [
    "### Retrieval"
   ]
  },
  {
   "cell_type": "code",
   "execution_count": 9,
   "id": "5e323390",
   "metadata": {},
   "outputs": [],
   "source": [
    "from langchain_community.chat_models import ChatOllama\n",
    "from langchain_core.runnables import RunnablePassthrough\n",
    "from langchain_core.output_parsers import StrOutputParser\n",
    "from langchain.prompts import ChatPromptTemplate, PromptTemplate\n",
    "from langchain.retrievers.multi_query import MultiQueryRetriever"
   ]
  },
  {
   "cell_type": "code",
   "execution_count": 10,
   "id": "759df16c",
   "metadata": {},
   "outputs": [],
   "source": [
    "local_model = model_name\n",
    "llm = ChatOllama(model=local_model)"
   ]
  },
  {
   "cell_type": "code",
   "execution_count": 11,
   "id": "73b766b1",
   "metadata": {},
   "outputs": [],
   "source": [
    "QUERY_PROMPT = PromptTemplate(\n",
    "    input_variables=['question'],\n",
    "    template = \"\"\"\n",
    "    Você é um modelo de linguagem de IA. \n",
    "    Sua tarefa é gerar cinco diferentes versões \n",
    "    de uma questão dada pelo usuário para recuperar documentos relevantes de um vector database.\n",
    "    Ao gerar múltiplas perspectivas da questão do usuário, seu objetivo é ajudar o usuário a \n",
    "    suerar algumas limitações da busca baseada em similaridade. Forneça essas perguntas alternativas sparadas por linhas.\n",
    "    Pergunta originaç: {question}\n",
    "    \"\"\"\n",
    ")"
   ]
  },
  {
   "cell_type": "code",
   "execution_count": 12,
   "id": "9edd768a",
   "metadata": {},
   "outputs": [],
   "source": [
    "retriever = MultiQueryRetriever.from_llm(\n",
    "    vector_db.as_retriever(),\n",
    "    llm, \n",
    "    prompt=QUERY_PROMPT\n",
    ")\n",
    "\n",
    "template = \"\"\"Responda a questão baseado somente no seguinte contexto:{context}\"\"\""
   ]
  },
  {
   "cell_type": "code",
   "execution_count": 13,
   "id": "cf56820c",
   "metadata": {},
   "outputs": [],
   "source": [
    "prompt = ChatPromptTemplate.from_template(template)"
   ]
  },
  {
   "cell_type": "code",
   "execution_count": 14,
   "id": "4a0d3540",
   "metadata": {},
   "outputs": [],
   "source": [
    "chain = (\n",
    "    {\"context\":retriever, \"question\":RunnablePassthrough()}\n",
    "    |prompt\n",
    "    |llm\n",
    "    |StrOutputParser()\n",
    ")"
   ]
  },
  {
   "cell_type": "code",
   "execution_count": 15,
   "id": "9b2f22c6",
   "metadata": {},
   "outputs": [
    {
     "name": "stdout",
     "output_type": "stream",
     "text": [
      "O que é isso?\n"
     ]
    },
    {
     "name": "stderr",
     "output_type": "stream",
     "text": [
      "OllamaEmbeddings: 100%|████████████████████████████████████████████████████████████████████| 1/1 [00:02<00:00,  2.87s/it]\n",
      "OllamaEmbeddings: 100%|████████████████████████████████████████████████████████████████████| 1/1 [00:02<00:00,  2.88s/it]\n",
      "OllamaEmbeddings: 100%|████████████████████████████████████████████████████████████████████| 1/1 [00:02<00:00,  2.86s/it]\n",
      "OllamaEmbeddings: 100%|████████████████████████████████████████████████████████████████████| 1/1 [00:02<00:00,  2.85s/it]\n",
      "OllamaEmbeddings: 100%|████████████████████████████████████████████████████████████████████| 1/1 [00:02<00:00,  2.84s/it]\n"
     ]
    },
    {
     "data": {
      "text/plain": [
       "' A lei geral de proteção de dados é uma lei que fornece diretrizes para a coleta, armazenamento e processamento de informações pessoais. Inclui várias obrigações para os controladores, como cumprir o artigo 7 e garantir o tratamento de dados pessoais apenas com a administração pública ou para uso compartilhado. Além disso, fornece hipóteses legais que podem ser utilizadas para justificar a coleta e armazenamento de informações pessoais, incluindo a necessidade legal ou regulatória.'"
      ]
     },
     "execution_count": 15,
     "metadata": {},
     "output_type": "execute_result"
    }
   ],
   "source": [
    "chain.invoke(input(\"\"))"
   ]
  },
  {
   "cell_type": "code",
   "execution_count": 23,
   "id": "9540a71a",
   "metadata": {},
   "outputs": [
    {
     "name": "stdout",
     "output_type": "stream",
     "text": [
      "Quais os fundamentos da LGPD?\n"
     ]
    },
    {
     "name": "stderr",
     "output_type": "stream",
     "text": [
      "OllamaEmbeddings: 100%|██████████████████████████████████████████████████████████████████| 1/1 [00:02<00:00,  2.44s/it]\n",
      "Number of requested results 4 is greater than number of elements in index 3, updating n_results = 3\n",
      "OllamaEmbeddings: 100%|██████████████████████████████████████████████████████████████████| 1/1 [00:02<00:00,  2.58s/it]\n",
      "Number of requested results 4 is greater than number of elements in index 3, updating n_results = 3\n",
      "OllamaEmbeddings: 100%|██████████████████████████████████████████████████████████████████| 1/1 [00:02<00:00,  2.46s/it]\n",
      "Number of requested results 4 is greater than number of elements in index 3, updating n_results = 3\n",
      "OllamaEmbeddings: 100%|██████████████████████████████████████████████████████████████████| 1/1 [00:02<00:00,  2.68s/it]\n",
      "Number of requested results 4 is greater than number of elements in index 3, updating n_results = 3\n",
      "OllamaEmbeddings: 100%|██████████████████████████████████████████████████████████████████| 1/1 [00:02<00:00,  2.67s/it]\n",
      "Number of requested results 4 is greater than number of elements in index 3, updating n_results = 3\n"
     ]
    },
    {
     "data": {
      "text/plain": [
       "' Como um modelo de linguagem AI, não tenho a capacidade de fornecer uma análise abrangente dos pontos principais da Lei de Proteção de Dados Pessoal (LGPD), mas posso resumir as principais características e princípios do texto que você forneceu. A LGPD é uma lei significativa destinada a proteger os dados pessoais de todos os cidadãos, independentemente da sua formação ou status jurídico. Os principais conceitos subjacentes à Lei incluem diretrizes básicas relacionadas à proteção dos dados pessoais, bem como as formas econômicas e tecnológicas de inovação e desenvolvimento. Além disso, a LGPD traz o conceito de dado pessoal sensível, que é relacionado com características da personalidade do indivíduo ou escolhas pessoais. A Lei também fornece princípios para anonimização de dados e garantir a segurança dos mecanismos técnicos de proteção de dados.'"
      ]
     },
     "execution_count": 23,
     "metadata": {},
     "output_type": "execute_result"
    }
   ],
   "source": [
    "chain.invoke(input(\"\"))"
   ]
  },
  {
   "cell_type": "code",
   "execution_count": 17,
   "id": "c6833ac3",
   "metadata": {},
   "outputs": [
    {
     "name": "stdout",
     "output_type": "stream",
     "text": [
      "Quais os 10 princípios da LGPD\n"
     ]
    },
    {
     "name": "stderr",
     "output_type": "stream",
     "text": [
      "OllamaEmbeddings: 100%|████████████████████████████████████████████████████████████████████| 1/1 [00:02<00:00,  2.89s/it]\n",
      "OllamaEmbeddings: 100%|████████████████████████████████████████████████████████████████████| 1/1 [00:02<00:00,  2.69s/it]\n",
      "OllamaEmbeddings: 100%|████████████████████████████████████████████████████████████████████| 1/1 [00:02<00:00,  2.90s/it]\n",
      "OllamaEmbeddings: 100%|████████████████████████████████████████████████████████████████████| 1/1 [00:02<00:00,  2.63s/it]\n",
      "OllamaEmbeddings: 100%|████████████████████████████████████████████████████████████████████| 1/1 [00:02<00:00,  2.96s/it]\n"
     ]
    },
    {
     "data": {
      "text/plain": [
       "' Compreender a lei de proteção de dados é importante para qualquer organização ou pessoa que colete, processos e armazenar informações pessoais. A Lei Geral de Proteção de Dados Pessoal (LGPD) está em vigor desde 2018 e regula o tratamento de dados pessoais dos cidadãos, incluindo on-line e off-line atividades. Os objetivos da LGDP são proteger os direitos fundamentais dos indivíduos de liberdade e privacidade e o desenvolvimento livre da personalidade.\\n\\nA LGPD aplica-se a qualquer pessoa, natural ou jurídico, que realizem atividades relacionadas com dados pessoais on-line e/ou offline. A lei inclui várias obrigações para os agentos de tratamento, incluindo a segurança do tratamento de dados, garantir o direito de acesso dos titulares de dados, a transparência e a disponibilidade dos agentos de tratamento.\\n\\nOs dados pessoais sensíveis são protegidos por LGPD, incluindo informações relacionadas à raça ou etnia, convicção religiosa, opinião política, filiação sindical ou organizacional religiosa ou política, saúde, vida ou orientação sexual, dados genéticos ou biométricos quando vinculados a uma pessoa natural. Os agentos devem garantir que não coletam, processam e armazenem dados sensíveis, a menos que estejam habilitados para fazê-lo, ou se você obteve o consentimento do titular dos dados.\\n\\nA LGPD também inclui várias outras disposições, como a necessidade de responsabilizar e fornecer contas sobre a adoção de medidas eficazes para proteger os dados pessoais, o direito de exigir acesso e a consulta dos titulares de dados e a necessidade de informar os agentos tratantes de não coletar ou processar certos tipos de dados.\\n\\nA LGPD também inclui várias outras disposições, como a necessidade de responsabilizar e fornecer contas sobre a adoção de medidas eficazes para proteger os dados pessoais, o direito de exigir acesso e consulta dos titulares de dados e a necessidade de informar os agentos tratantes de não coletar ou processar certos tipos de dados.\\n\\nÉ importante notar que a LGPD não se aplicará a dados anonimizados, mesmo que tenha sido desengatada anteriormente. Em vez disso, os agentes devem garantir que não coletam, processam ou armazenem dados pseudoanônimos, a menos que estejam habilitados para fazê-lo, ou se você obteve o consentimento do titular dos dados.\\n\\nAo entender esses princípios e outras disposições da LGPD, as organizações e os indivíduos podem garantir que elas estão em conformidade com a lei e que seus tratamentos pessoais estejam em conformidade com os princípios e regulamentos.'"
      ]
     },
     "execution_count": 17,
     "metadata": {},
     "output_type": "execute_result"
    }
   ],
   "source": [
    "chain.invoke(input(\"\"))"
   ]
  },
  {
   "cell_type": "code",
   "execution_count": 25,
   "id": "5eb82bbc",
   "metadata": {},
   "outputs": [
    {
     "name": "stdout",
     "output_type": "stream",
     "text": [
      "Cite os 10 princípios da LGPD?\n"
     ]
    },
    {
     "name": "stderr",
     "output_type": "stream",
     "text": [
      "OllamaEmbeddings: 100%|██████████████████████████████████████████████████████████████████| 1/1 [00:02<00:00,  2.37s/it]\n",
      "Number of requested results 4 is greater than number of elements in index 3, updating n_results = 3\n",
      "OllamaEmbeddings: 100%|██████████████████████████████████████████████████████████████████| 1/1 [00:02<00:00,  2.55s/it]\n",
      "Number of requested results 4 is greater than number of elements in index 3, updating n_results = 3\n",
      "OllamaEmbeddings: 100%|██████████████████████████████████████████████████████████████████| 1/1 [00:02<00:00,  2.60s/it]\n",
      "Number of requested results 4 is greater than number of elements in index 3, updating n_results = 3\n",
      "OllamaEmbeddings: 100%|██████████████████████████████████████████████████████████████████| 1/1 [00:02<00:00,  2.64s/it]\n",
      "Number of requested results 4 is greater than number of elements in index 3, updating n_results = 3\n",
      "OllamaEmbeddings: 100%|██████████████████████████████████████████████████████████████████| 1/1 [00:02<00:00,  2.70s/it]\n",
      "Number of requested results 4 is greater than number of elements in index 3, updating n_results = 3\n",
      "OllamaEmbeddings: 100%|██████████████████████████████████████████████████████████████████| 1/1 [00:02<00:00,  2.63s/it]\n",
      "Number of requested results 4 is greater than number of elements in index 3, updating n_results = 3\n",
      "OllamaEmbeddings: 100%|██████████████████████████████████████████████████████████████████| 1/1 [00:02<00:00,  2.63s/it]\n",
      "Number of requested results 4 is greater than number of elements in index 3, updating n_results = 3\n",
      "OllamaEmbeddings: 100%|██████████████████████████████████████████████████████████████████| 1/1 [00:02<00:00,  2.61s/it]\n",
      "Number of requested results 4 is greater than number of elements in index 3, updating n_results = 3\n",
      "OllamaEmbeddings: 100%|██████████████████████████████████████████████████████████████████| 1/1 [00:02<00:00,  2.56s/it]\n",
      "Number of requested results 4 is greater than number of elements in index 3, updating n_results = 3\n",
      "OllamaEmbeddings: 100%|██████████████████████████████████████████████████████████████████| 1/1 [00:02<00:00,  2.61s/it]\n",
      "Number of requested results 4 is greater than number of elements in index 3, updating n_results = 3\n",
      "OllamaEmbeddings: 100%|██████████████████████████████████████████████████████████████████| 1/1 [00:02<00:00,  2.60s/it]\n",
      "Number of requested results 4 is greater than number of elements in index 3, updating n_results = 3\n"
     ]
    },
    {
     "data": {
      "text/plain": [
       "' A Lei de Proteção dos Dados da Pessoa (LGPD) é uma lei que regula a coleta, uso e divulgação de informações pessoais no Brasil. Trata a protecção de dados pessoais, incluindo a inviolabilidade da intimidade, direitos humanos, dignidade e o livre desenvolvimento da personalidade natural (pessoa física). A LGPD se aplicam a qualquer pessoa que lida com dados pessoais, on-line ou off-line. Os fundamentos da Lei incluem: inviolabilidade da intimidade e honra da imagem; privacidade; Direitos humanos, livre desenvolvimento da personalidade da pessoa natural; Autodeterminação informativa; Livre iniciativa, concorrência e defesa do consumidor; e o Desenvolvimento econômico e tecnológico e inovação. A LGPD aumenta os conceitos de proteção de dados pessoais, que deve ser realizada de forma efetiva e eficaz, aplicando o princípio constitucional da inviolabilidade à privacidade previsto na Constituição, em seu artigo 5o inciso X.'"
      ]
     },
     "execution_count": 25,
     "metadata": {},
     "output_type": "execute_result"
    }
   ],
   "source": [
    "chain.invoke(input(\"\"))"
   ]
  },
  {
   "cell_type": "code",
   "execution_count": 26,
   "id": "11e2491a",
   "metadata": {},
   "outputs": [
    {
     "name": "stdout",
     "output_type": "stream",
     "text": [
      "Organize a resposta em tópicos. Descreva a LGPD em três tópicos.\n"
     ]
    },
    {
     "name": "stderr",
     "output_type": "stream",
     "text": [
      "OllamaEmbeddings: 100%|██████████████████████████████████████████████████████████████████| 1/1 [00:02<00:00,  2.61s/it]\n",
      "Number of requested results 4 is greater than number of elements in index 3, updating n_results = 3\n",
      "OllamaEmbeddings: 100%|██████████████████████████████████████████████████████████████████| 1/1 [00:02<00:00,  2.59s/it]\n",
      "Number of requested results 4 is greater than number of elements in index 3, updating n_results = 3\n",
      "OllamaEmbeddings: 100%|██████████████████████████████████████████████████████████████████| 1/1 [00:02<00:00,  2.46s/it]\n",
      "Number of requested results 4 is greater than number of elements in index 3, updating n_results = 3\n",
      "OllamaEmbeddings: 100%|██████████████████████████████████████████████████████████████████| 1/1 [00:02<00:00,  2.64s/it]\n",
      "Number of requested results 4 is greater than number of elements in index 3, updating n_results = 3\n",
      "OllamaEmbeddings: 100%|██████████████████████████████████████████████████████████████████| 1/1 [00:02<00:00,  2.65s/it]\n",
      "Number of requested results 4 is greater than number of elements in index 3, updating n_results = 3\n"
     ]
    },
    {
     "data": {
      "text/plain": [
       "' Este resumo é útil para entender os princípios e conceitos básicos da Lei de Proteção de Dados do Brasil (LGPD). No entanto, há alguns aspectos-chave que podem precisar de um nível mais aprofundado de análise e interpretação. Por exemplo, o tratamento sensível dos dados pessoais e a anonimização de dados são conceitos complexos que exigem uma compreensão completa dos princípios legais e técnicos subjacentes. Além disso, o resumo não discute quaisquer consequências ou resultados potenciais da aplicação da LGPD em diferentes partes interessadas, como as cidades e os indivíduos. Portanto, é importante entender as implicações práticas do tratamento de dados pessoais, incluindo os riscos potenciais para o livre desenvolvimento da personalidade e dos direitos fundamentais da privacidade e a liberdade.'"
      ]
     },
     "execution_count": 26,
     "metadata": {},
     "output_type": "execute_result"
    }
   ],
   "source": [
    "chain.invoke(input(\"\"))"
   ]
  },
  {
   "cell_type": "code",
   "execution_count": 27,
   "id": "02c1e451",
   "metadata": {},
   "outputs": [
    {
     "name": "stdout",
     "output_type": "stream",
     "text": [
      "A LGPD combate o terrorismo?\n"
     ]
    },
    {
     "name": "stderr",
     "output_type": "stream",
     "text": [
      "OllamaEmbeddings: 100%|██████████████████████████████████████████████████████████████████| 1/1 [00:02<00:00,  2.66s/it]\n",
      "Number of requested results 4 is greater than number of elements in index 3, updating n_results = 3\n",
      "OllamaEmbeddings: 100%|██████████████████████████████████████████████████████████████████| 1/1 [00:02<00:00,  2.67s/it]\n",
      "Number of requested results 4 is greater than number of elements in index 3, updating n_results = 3\n",
      "OllamaEmbeddings: 100%|██████████████████████████████████████████████████████████████████| 1/1 [00:02<00:00,  2.60s/it]\n",
      "Number of requested results 4 is greater than number of elements in index 3, updating n_results = 3\n",
      "OllamaEmbeddings: 100%|██████████████████████████████████████████████████████████████████| 1/1 [00:02<00:00,  2.42s/it]\n",
      "Number of requested results 4 is greater than number of elements in index 3, updating n_results = 3\n",
      "OllamaEmbeddings: 100%|██████████████████████████████████████████████████████████████████| 1/1 [00:02<00:00,  2.60s/it]\n",
      "Number of requested results 4 is greater than number of elements in index 3, updating n_results = 3\n"
     ]
    },
    {
     "data": {
      "text/plain": [
       "' A Lei de Proteção de Dados de 2021 (LGPD) é uma lei brasileira que regula como as pessoas naturais, online ou offline, seus dados pessoais são tratados e protegidos. Ele visa proteger os direitos fundamentais dos cidadãos e promover a liberdade e o desenvolvimento da personalidade pessoal natural (pessoa física). Os princípios-chave da LGPD incluem a inviolabilidade da privacidade, autodeterminação informacional e a respeitosa e os direitos humanos. A lei também requer que os processadores de dados pessoais devem adotar medidas adequadas para proteger os dados e que eles podem ser responsabilizados por quaisquer violações.'"
      ]
     },
     "execution_count": 27,
     "metadata": {},
     "output_type": "execute_result"
    }
   ],
   "source": [
    "chain.invoke(input(\"\"))"
   ]
  },
  {
   "cell_type": "code",
   "execution_count": 28,
   "id": "eeda12a3",
   "metadata": {},
   "outputs": [
    {
     "name": "stdout",
     "output_type": "stream",
     "text": [
      "Quais as referências do documento?\n"
     ]
    },
    {
     "name": "stderr",
     "output_type": "stream",
     "text": [
      "OllamaEmbeddings: 100%|██████████████████████████████████████████████████████████████████| 1/1 [00:02<00:00,  2.46s/it]\n",
      "Number of requested results 4 is greater than number of elements in index 3, updating n_results = 3\n",
      "OllamaEmbeddings: 100%|██████████████████████████████████████████████████████████████████| 1/1 [00:02<00:00,  2.42s/it]\n",
      "Number of requested results 4 is greater than number of elements in index 3, updating n_results = 3\n",
      "OllamaEmbeddings: 100%|██████████████████████████████████████████████████████████████████| 1/1 [00:02<00:00,  2.54s/it]\n",
      "Number of requested results 4 is greater than number of elements in index 3, updating n_results = 3\n",
      "OllamaEmbeddings: 100%|██████████████████████████████████████████████████████████████████| 1/1 [00:02<00:00,  2.43s/it]\n",
      "Number of requested results 4 is greater than number of elements in index 3, updating n_results = 3\n",
      "OllamaEmbeddings: 100%|██████████████████████████████████████████████████████████████████| 1/1 [00:02<00:00,  2.68s/it]\n",
      "Number of requested results 4 is greater than number of elements in index 3, updating n_results = 3\n"
     ]
    },
    {
     "data": {
      "text/plain": [
       "' Como um modelo de linguagem AI, não posso fornecer uma opinião pessoal, pois sou apenas um programa de IA projetado para ajudar as pessoas na sua pesquisa. No entanto, posso fornecer informações e resumos relacionados ao tratamento de dados pessoais de acordo com o texto dado.\\n\\nDe acordo com o texto dado, a LGPD estabelece os principais conceitos do tratamento dos dados pessoais que devem ser respeitados para proteger os direitos fundamentais da privacidade e da liberdade das pessoas. Esses princípios incluem:\\n\\n1) Inviolabilidade da intimidade, honra da imagem\\n2) Respeito à privacidade\\n3) Derechos humanos, livre desenvolvimento da personalidade, dignidade e exercício da cidadania pelas pessoas naturais.\\n4) Autodeterminação informativa\\n5) Livre iniciativa, livre concorrência e defesa do consumidor\\n6) Desenvolvimento econômico e tecnológico e inovação\\n7) Liberdade de expressão, informação, comunicação e opinião.\\n\\nO tratamento dos dados pessoais sensívels é relacionado com características da personalidade do indivíduo ou escolhas pessoais e são ligadas a uma pessoa natural. Exemplos de tais informações incluem:\\n\\n1) Referência religiosa\\n2) Referente à saúde ou à vida sexual\\n3) Genórico ou biométrico dado\\n4) Filiação à sindicato ou organização de caráter religioso ou filosófico\\n5) Opinião política\\n6) Origem racial ou étnica.\\n\\nOs dados não anonimizados são relacionados a um usuário que pode ser identificado, considerando o uso de meios técnicos razoáveis e disponíveis na ocasião do seu tratamento.'"
      ]
     },
     "execution_count": 28,
     "metadata": {},
     "output_type": "execute_result"
    }
   ],
   "source": [
    "chain.invoke(input(\"\"))"
   ]
  },
  {
   "cell_type": "code",
   "execution_count": 29,
   "id": "e71bf151",
   "metadata": {},
   "outputs": [
    {
     "name": "stdout",
     "output_type": "stream",
     "text": [
      "O que é isso?\n"
     ]
    },
    {
     "name": "stderr",
     "output_type": "stream",
     "text": [
      "OllamaEmbeddings: 100%|██████████████████████████████████████████████████████████████████| 1/1 [00:02<00:00,  2.49s/it]\n",
      "Number of requested results 4 is greater than number of elements in index 3, updating n_results = 3\n",
      "OllamaEmbeddings: 100%|██████████████████████████████████████████████████████████████████| 1/1 [00:02<00:00,  2.41s/it]\n",
      "Number of requested results 4 is greater than number of elements in index 3, updating n_results = 3\n",
      "OllamaEmbeddings: 100%|██████████████████████████████████████████████████████████████████| 1/1 [00:02<00:00,  2.60s/it]\n",
      "Number of requested results 4 is greater than number of elements in index 3, updating n_results = 3\n",
      "OllamaEmbeddings: 100%|██████████████████████████████████████████████████████████████████| 1/1 [00:02<00:00,  2.61s/it]\n",
      "Number of requested results 4 is greater than number of elements in index 3, updating n_results = 3\n",
      "OllamaEmbeddings: 100%|██████████████████████████████████████████████████████████████████| 1/1 [00:02<00:00,  2.43s/it]\n",
      "Number of requested results 4 is greater than number of elements in index 3, updating n_results = 3\n"
     ]
    },
    {
     "data": {
      "text/plain": [
       "' Quais são os fundamentos principais relacionados à proteção dos dados pessoais, e como a Lei de Proteção de Dados (LGPD) garante o respeito por esses princípios?'"
      ]
     },
     "execution_count": 29,
     "metadata": {},
     "output_type": "execute_result"
    }
   ],
   "source": [
    "chain.invoke(input(\"\"))"
   ]
  },
  {
   "cell_type": "code",
   "execution_count": 30,
   "id": "9e77dc5b",
   "metadata": {},
   "outputs": [
    {
     "name": "stdout",
     "output_type": "stream",
     "text": [
      "O que é isso?\n"
     ]
    },
    {
     "name": "stderr",
     "output_type": "stream",
     "text": [
      "OllamaEmbeddings: 100%|██████████████████████████████████████████████████████████████████| 1/1 [00:02<00:00,  2.50s/it]\n",
      "Number of requested results 4 is greater than number of elements in index 3, updating n_results = 3\n",
      "OllamaEmbeddings: 100%|██████████████████████████████████████████████████████████████████| 1/1 [00:02<00:00,  2.61s/it]\n",
      "Number of requested results 4 is greater than number of elements in index 3, updating n_results = 3\n",
      "OllamaEmbeddings: 100%|██████████████████████████████████████████████████████████████████| 1/1 [00:02<00:00,  2.54s/it]\n",
      "Number of requested results 4 is greater than number of elements in index 3, updating n_results = 3\n",
      "OllamaEmbeddings: 100%|██████████████████████████████████████████████████████████████████| 1/1 [00:02<00:00,  2.58s/it]\n",
      "Number of requested results 4 is greater than number of elements in index 3, updating n_results = 3\n",
      "OllamaEmbeddings: 100%|██████████████████████████████████████████████████████████████████| 1/1 [00:02<00:00,  2.54s/it]\n",
      "Number of requested results 4 is greater than number of elements in index 3, updating n_results = 3\n"
     ]
    },
    {
     "data": {
      "text/plain": [
       "' A Lei Geral dos Direitos na Internet (LGPD) é uma lei brasileira que regula a coleta, o processamento e o tratamento de dados pessoais online ou offline. Ele estabelece os fundamentos da proteção de dados pessoais, incluindo direitos humanos e a inviolabilidade da privacidade, e exige que quaisquer órgãos públicas ou privados que lidam com dados pessoais sejam responsáveis por suas segurança e uso. A LGPD se estende a qualquer pessoa que envolva o tratamento de dados pessoais, incluindo cookies, endereças IP, endereças de e-mail e números de telefone. O tratamento de dados sensíveis relacionados com características da personalidade do indivíduo ou escolhas pessoais também são protegidos pela LGPD. A anonimização de dados é uma opção para os usuários que não possam ser identificados, e a segurança dos dados devem estar sob responsabilidade dos órgãos competentes da coordenação do Tecnologia da Informação.'"
      ]
     },
     "execution_count": 30,
     "metadata": {},
     "output_type": "execute_result"
    }
   ],
   "source": [
    "chain.invoke(input(\"\"))"
   ]
  },
  {
   "cell_type": "code",
   "execution_count": null,
   "id": "99942cc9",
   "metadata": {},
   "outputs": [],
   "source": []
  }
 ],
 "metadata": {
  "kernelspec": {
   "display_name": "Python 3 (ipykernel)",
   "language": "python",
   "name": "python3"
  },
  "language_info": {
   "codemirror_mode": {
    "name": "ipython",
    "version": 3
   },
   "file_extension": ".py",
   "mimetype": "text/x-python",
   "name": "python",
   "nbconvert_exporter": "python",
   "pygments_lexer": "ipython3",
   "version": "3.10.11"
  }
 },
 "nbformat": 4,
 "nbformat_minor": 5
}
