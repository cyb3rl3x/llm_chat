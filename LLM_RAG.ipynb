{
 "cells": [
  {
   "cell_type": "raw",
   "id": "046b77da",
   "metadata": {},
   "source": [
    "!pip install --q unstructured langchain\n",
    "!pip install --q unstructured[all-docs]"
   ]
  },
  {
   "cell_type": "code",
   "execution_count": null,
   "id": "56a5eef3",
   "metadata": {},
   "outputs": [],
   "source": [
    "from langchain_community.document_loaders import UnstructuredPDFLoader\n",
    "from langchain_community.document_loaders import OnlinePDFLoader"
   ]
  },
  {
   "cell_type": "code",
   "execution_count": null,
   "id": "77246168",
   "metadata": {},
   "outputs": [],
   "source": [
    "import os\n",
    "\n",
    "print(\"Loading data...\")\n",
    "pdf_folder_path = \"biblioteca/\"\n",
    "print(os.listdir(pdf_folder_path))\n",
    "\n",
    "# Load multiple files\n",
    "loaders = [UnstructuredPDFLoader(os.path.join(pdf_folder_path, fn)) for fn in os.listdir(pdf_folder_path)]\n",
    "\n",
    "print(loaders)\n",
    "\n",
    "all_documents = []\n",
    "\n",
    "for loader in loaders:\n",
    "    print(\"Loading raw document...\" + loader.file_path)\n",
    "    raw_documents = loader.load()\n",
    "\n",
    "    print(\"Splitting text...\")\n",
    "    text_splitter = RecursiveCharacterTextSplitter(\n",
    "        #separator=\"\\n\\n\",\n",
    "        chunk_size=800,\n",
    "        chunk_overlap=100,\n",
    "        length_function=len,\n",
    "    )\n",
    "    documents = text_splitter.split_documents(raw_documents)\n",
    "    all_documents.extend(documents)"
   ]
  },
  {
   "cell_type": "code",
   "execution_count": null,
   "id": "83cd8201",
   "metadata": {},
   "outputs": [],
   "source": [
    "local_path = 'biblioteca/cartilha_lgpd_2021.pdf'\n",
    "\n",
    "if local_path:\n",
    "    loader = UnstructuredPDFLoader(file_path=local_path)\n",
    "    data = loader.load()\n",
    "else:\n",
    "    print('Upload um arquivo')"
   ]
  },
  {
   "cell_type": "code",
   "execution_count": null,
   "id": "5e61d537",
   "metadata": {},
   "outputs": [],
   "source": [
    "type(data)#[0].page_content"
   ]
  },
  {
   "cell_type": "code",
   "execution_count": null,
   "id": "215fc3f4",
   "metadata": {},
   "outputs": [],
   "source": []
  },
  {
   "cell_type": "markdown",
   "id": "47855394",
   "metadata": {},
   "source": [
    "### Vector Embeddings"
   ]
  },
  {
   "cell_type": "raw",
   "id": "59153bee",
   "metadata": {},
   "source": [
    "!ollama pull nomic-embed-text"
   ]
  },
  {
   "cell_type": "raw",
   "id": "7b76fc80",
   "metadata": {},
   "source": [
    "!ollama pull cnmoro/mistral_7b_portuguese:q2_K"
   ]
  },
  {
   "cell_type": "code",
   "execution_count": null,
   "id": "49a9a407",
   "metadata": {},
   "outputs": [],
   "source": [
    "!ollama list"
   ]
  },
  {
   "cell_type": "code",
   "execution_count": null,
   "id": "babe733e",
   "metadata": {},
   "outputs": [],
   "source": [
    "#!pip install --q chromadb\n",
    "#!pip install --q langchain-text-splitters"
   ]
  },
  {
   "cell_type": "code",
   "execution_count": null,
   "id": "ee591d46",
   "metadata": {},
   "outputs": [],
   "source": [
    "from langchain_community.embeddings import OllamaEmbeddings\n",
    "from langchain_text_splitters import RecursiveCharacterTextSplitter\n",
    "from langchain_community.vectorstores import Chroma"
   ]
  },
  {
   "cell_type": "code",
   "execution_count": null,
   "id": "a0efc7c0",
   "metadata": {},
   "outputs": [],
   "source": [
    "text_splitter = RecursiveCharacterTextSplitter(chunk_size=7500, \n",
    "                                               chunk_overlap=100)\n",
    "\n",
    "chunks = text_splitter.split_documents(data)"
   ]
  },
  {
   "cell_type": "code",
   "execution_count": null,
   "id": "cba55068",
   "metadata": {},
   "outputs": [],
   "source": [
    "model_name = 'cnmoro/mistral_7b_portuguese:q2_K'\n",
    "\n",
    "vector_db = Chroma.from_documents(\n",
    "    documents = all_documents, #chunks, \n",
    "    embedding = OllamaEmbeddings(model=model_name, show_progress=True),\n",
    "    collection_name='local-rag'\n",
    ")"
   ]
  },
  {
   "cell_type": "markdown",
   "id": "456a13ba",
   "metadata": {},
   "source": [
    "### Retrieval"
   ]
  },
  {
   "cell_type": "code",
   "execution_count": null,
   "id": "5e323390",
   "metadata": {},
   "outputs": [],
   "source": [
    "from langchain_community.chat_models import ChatOllama\n",
    "from langchain_core.runnables import RunnablePassthrough\n",
    "from langchain_core.output_parsers import StrOutputParser\n",
    "from langchain.prompts import ChatPromptTemplate, PromptTemplate\n",
    "from langchain.retrievers.multi_query import MultiQueryRetriever"
   ]
  },
  {
   "cell_type": "code",
   "execution_count": null,
   "id": "759df16c",
   "metadata": {},
   "outputs": [],
   "source": [
    "local_model = model_name\n",
    "llm = ChatOllama(model=local_model)"
   ]
  },
  {
   "cell_type": "code",
   "execution_count": null,
   "id": "73b766b1",
   "metadata": {},
   "outputs": [],
   "source": [
    "QUERY_PROMPT = PromptTemplate(\n",
    "    input_variables=['question'],\n",
    "    template = \"\"\"\n",
    "    Você é um modelo de linguagem de IA. \n",
    "    Sua tarefa é gerar cinco diferentes versões \n",
    "    de uma questão dada pelo usuário para recuperar documentos relevantes de um vector database.\n",
    "    Ao gerar múltiplas perspectivas da questão do usuário, seu objetivo é ajudar o usuário a \n",
    "    suerar algumas limitações da busca baseada em similaridade. Forneça essas perguntas alternativas sparadas por linhas.\n",
    "    Pergunta originaç: {question}\n",
    "    \"\"\"\n",
    ")"
   ]
  },
  {
   "cell_type": "code",
   "execution_count": null,
   "id": "9edd768a",
   "metadata": {},
   "outputs": [],
   "source": [
    "retriever = MultiQueryRetriever.from_llm(\n",
    "    vector_db.as_retriever(),\n",
    "    llm, \n",
    "    prompt=QUERY_PROMPT\n",
    ")\n",
    "\n",
    "template = \"\"\"Responda a questão baseado somente no seguinte contexto:{context}\"\"\""
   ]
  },
  {
   "cell_type": "code",
   "execution_count": null,
   "id": "cf56820c",
   "metadata": {},
   "outputs": [],
   "source": [
    "prompt = ChatPromptTemplate.from_template(template)"
   ]
  },
  {
   "cell_type": "code",
   "execution_count": null,
   "id": "4a0d3540",
   "metadata": {},
   "outputs": [],
   "source": [
    "chain = (\n",
    "    {\"context\":retriever, \"question\":RunnablePassthrough()}\n",
    "    |prompt\n",
    "    |llm\n",
    "    |StrOutputParser()\n",
    ")"
   ]
  },
  {
   "cell_type": "code",
   "execution_count": null,
   "id": "9b2f22c6",
   "metadata": {},
   "outputs": [],
   "source": [
    "chain.invoke(input(\"\"))"
   ]
  },
  {
   "cell_type": "code",
   "execution_count": null,
   "id": "9540a71a",
   "metadata": {},
   "outputs": [],
   "source": [
    "chain.invoke(input(\"\"))"
   ]
  },
  {
   "cell_type": "code",
   "execution_count": null,
   "id": "c6833ac3",
   "metadata": {},
   "outputs": [],
   "source": [
    "chain.invoke(input(\"\"))"
   ]
  },
  {
   "cell_type": "code",
   "execution_count": null,
   "id": "5eb82bbc",
   "metadata": {},
   "outputs": [],
   "source": [
    "chain.invoke(input(\"\"))"
   ]
  },
  {
   "cell_type": "code",
   "execution_count": null,
   "id": "11e2491a",
   "metadata": {},
   "outputs": [],
   "source": [
    "chain.invoke(input(\"\"))"
   ]
  },
  {
   "cell_type": "code",
   "execution_count": null,
   "id": "02c1e451",
   "metadata": {},
   "outputs": [],
   "source": [
    "chain.invoke(input(\"\"))"
   ]
  },
  {
   "cell_type": "code",
   "execution_count": null,
   "id": "eeda12a3",
   "metadata": {},
   "outputs": [],
   "source": [
    "chain.invoke(input(\"\"))"
   ]
  },
  {
   "cell_type": "code",
   "execution_count": null,
   "id": "e71bf151",
   "metadata": {},
   "outputs": [],
   "source": [
    "chain.invoke(input(\"\"))"
   ]
  },
  {
   "cell_type": "code",
   "execution_count": null,
   "id": "9e77dc5b",
   "metadata": {},
   "outputs": [],
   "source": [
    "chain.invoke(input(\"\"))"
   ]
  },
  {
   "cell_type": "code",
   "execution_count": null,
   "id": "99942cc9",
   "metadata": {},
   "outputs": [],
   "source": []
  }
 ],
 "metadata": {
  "kernelspec": {
   "display_name": "Python 3 (ipykernel)",
   "language": "python",
   "name": "python3"
  },
  "language_info": {
   "codemirror_mode": {
    "name": "ipython",
    "version": 3
   },
   "file_extension": ".py",
   "mimetype": "text/x-python",
   "name": "python",
   "nbconvert_exporter": "python",
   "pygments_lexer": "ipython3",
   "version": "3.10.11"
  }
 },
 "nbformat": 4,
 "nbformat_minor": 5
}
